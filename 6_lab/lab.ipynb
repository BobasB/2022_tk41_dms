{
 "cells": [
  {
   "cell_type": "code",
   "execution_count": 2,
   "metadata": {},
   "outputs": [],
   "source": [
    "import sqlite3 as db\n",
    "\n",
    "def add_record(cursor, data:tuple): \n",
    "    cursor.execute(\"INSERT INTO students (firstname, lastname) VALUES (?, ?)\", data)\n",
    "\n",
    "def delete_record(cursor, firstname):\n",
    "    if isinstance(firstname, str):\n",
    "        cursor.execute(\"DELETE FROM students WHERE firstname=?\", (firstname, ))\n",
    "    elif isinstance(firstname, tuple) and len(firstname)==2:\n",
    "        cursor.execute(\"DELETE FROM students WHERE firstname=? OR firstname=?\", firstname)\n",
    "    else:\n",
    "        print(\"Непідходящі дані\")\n",
    "\n",
    "def show_all_records(cursor):\n",
    "    return cursor.execute(\"SELECT * FROM students;\").fetchall()\n",
    "\n",
    "def get_first_result(cursor, condition):\n",
    "    return cursor.execute(\"SELECT stdid, firstname FROM students WHERE lastname=? ORDER BY firstname ASC;\", (condition, )).fetchone()"
   ]
  },
  {
   "cell_type": "code",
   "execution_count": 12,
   "metadata": {},
   "outputs": [
    {
     "name": "stdout",
     "output_type": "stream",
     "text": [
      "[('students',)]\n",
      "[(6, 'Bogdan', 'BB'), (7, 'Bobas', 'BB'), (10, 'Bogdan', 'BB'), (11, 'Bobas', 'BB'), (14, 'Bogdan', 'BB'), (15, 'Bobas', 'BB'), (18, 'Bogdan', 'BB'), (19, 'Bobas', 'BB'), (22, 'Bogdan', 'BB'), (23, 'Bobas', 'BB'), (26, 'Bogdan', 'BB'), (27, 'Bobas', 'BB'), (30, 'Bogdan', 'BB'), (31, 'Bobas', 'BB'), (34, 'Bogdan', 'BB'), (35, 'Bobas', 'BB'), (38, 'Bogdan', 'BB'), (39, 'Bobas', 'BB'), (42, 'Bogdan', 'BB'), (43, 'Bobas', 'BB'), (44, 'Student_1', 'TK'), (45, 'Bohdan', 'BB'), (46, 'Bogdan', 'BB'), (47, 'Bobas', 'BB')]\n",
      "(7, 'Bobas')\n",
      "Непідходящі дані\n",
      "[(6, 'Bogdan', 'BB'), (7, 'Bobas', 'BB'), (10, 'Bogdan', 'BB'), (11, 'Bobas', 'BB'), (14, 'Bogdan', 'BB'), (15, 'Bobas', 'BB'), (18, 'Bogdan', 'BB'), (19, 'Bobas', 'BB'), (22, 'Bogdan', 'BB'), (23, 'Bobas', 'BB'), (26, 'Bogdan', 'BB'), (27, 'Bobas', 'BB'), (30, 'Bogdan', 'BB'), (31, 'Bobas', 'BB'), (34, 'Bogdan', 'BB'), (35, 'Bobas', 'BB'), (38, 'Bogdan', 'BB'), (39, 'Bobas', 'BB'), (42, 'Bogdan', 'BB'), (43, 'Bobas', 'BB'), (46, 'Bogdan', 'BB'), (47, 'Bobas', 'BB')]\n"
     ]
    }
   ],
   "source": [
    "#conn = db.connect(':memory:')\n",
    "#conn = db.connect('6_lab/my.db')\n",
    "\n",
    "\n",
    "with db.connect('my.db') as conn:\n",
    "    c = conn.cursor()\n",
    "    c.execute(\"CREATE TABLE IF NOT EXISTS students (stdid INTEGER PRIMARY KEY, firstname NVARCHAR(20), lastname NVARCHAR(20))\")\n",
    "    for record in [(\"Student_1\", \"TK\"), ('Bohdan', 'BB'), ('Bogdan', 'BB'), ('Bobas', 'BB')]:\n",
    "        add_record(c, record)\n",
    "    \n",
    "\n",
    "    c.execute(\"SELECT name FROM sqlite_master WHERE type='table';\")\n",
    "    print(c.fetchall())\n",
    "\n",
    "    print(show_all_records(c))\n",
    "    print(get_first_result(c, \"BB\"))\n",
    "\n",
    "    delete_record(c, (\"Student_1\", \"Bohdan\"))\n",
    "    delete_record(c, (\"asd\", \"sfsd\", \"sdfsd\"))\n",
    "    \n",
    "    print(show_all_records(c))\n",
    "\n",
    "\n",
    "\n",
    "\n",
    "### Тут ми будемо працювати з базою\n",
    "\n",
    "#conn.commit()\n",
    "#conn.close()"
   ]
  }
 ],
 "metadata": {
  "kernelspec": {
   "display_name": "Python 3.10.6 64-bit",
   "language": "python",
   "name": "python3"
  },
  "language_info": {
   "codemirror_mode": {
    "name": "ipython",
    "version": 3
   },
   "file_extension": ".py",
   "mimetype": "text/x-python",
   "name": "python",
   "nbconvert_exporter": "python",
   "pygments_lexer": "ipython3",
   "version": "3.10.6"
  },
  "orig_nbformat": 4,
  "vscode": {
   "interpreter": {
    "hash": "a42ccb73e7d9bfdf27e036f1d2b8b681e55fc0743cc5586bc2474d4a60f4b886"
   }
  }
 },
 "nbformat": 4,
 "nbformat_minor": 2
}

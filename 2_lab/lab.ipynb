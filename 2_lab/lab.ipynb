{
 "cells": [
  {
   "cell_type": "markdown",
   "metadata": {},
   "source": [
    "## Базовими типами даних\n",
    "- цілі числа, числа з плаваючию комою\n",
    "- стрічки"
   ]
  },
  {
   "cell_type": "code",
   "execution_count": 12,
   "metadata": {},
   "outputs": [
    {
     "name": "stdout",
     "output_type": "stream",
     "text": [
      "Це є стрічка, Це також стрічка\n",
      "<class 'str'> 12\n"
     ]
    },
    {
     "data": {
      "text/plain": [
       "False"
      ]
     },
     "execution_count": 12,
     "metadata": {},
     "output_type": "execute_result"
    }
   ],
   "source": [
    "var_str = \"Це є стрічка\" \n",
    "var_str_1 = 'Це також стрічка'\n",
    "vv = var_str + \", \" + var_str_1\n",
    "print(vv)\n",
    "\n",
    "var_int = int(\"12\")\n",
    "var_float = 2.5\n",
    "\n",
    "print(type(var_str), var_int)\n",
    "var_str.isdigit()\n"
   ]
  },
  {
   "cell_type": "markdown",
   "metadata": {},
   "source": [
    "## Способи виведення даних"
   ]
  },
  {
   "cell_type": "code",
   "execution_count": 27,
   "metadata": {},
   "outputs": [
    {
     "name": "stdout",
     "output_type": "stream",
     "text": [
      "Метод 1: Це є стрічка <class 'str'> А також числа: 2.5 <class 'float'>\n",
      "Метод 2: Це є стрічка <class 'str'> А також числа: 2.5 <class 'float'>\n",
      "Метод 3: Це є стрічка <class 'str'> А також числа: 2.5 <class 'float'>\n",
      "Метод 4: Це є стрічка <class 'str'> А також числа: 2.5 <class 'float'>\n",
      "Ми поєднали форматування: Це ми будем Форматувати Це також стрічка\n"
     ]
    }
   ],
   "source": [
    "print(\"Метод 1:\", var_str, type(var_str), \"А також числа:\", var_float, type(var_float))\n",
    "\n",
    "print(\"Метод 2: \" + var_str + \" \" +  str(type(var_str)) + \" А також числа: \" + str(var_float) + \" \" + str(type(var_float)))\n",
    "\n",
    "print(\"Метод 3: {0} {1} А також числа: {2} {3}\".format(var_str, type(var_str), var_float, type(var_float)))\n",
    "\n",
    "print(f\"Метод 4: {var_str} {type(var_str)} А також числа: {var_float} {type(var_float)}\")\n",
    "\n",
    "a = \"Це ми будем {}\".format(\"Форматувати\") # так не робити, це приклад\n",
    "print(f\"Ми поєднали форматування: {a}\", var_str_1)"
   ]
  },
  {
   "cell_type": "markdown",
   "metadata": {},
   "source": [
    "## Сладні типи даних\n",
    "- list, tupl\n",
    "- set, dict\n",
    "\n",
    "### List"
   ]
  },
  {
   "cell_type": "code",
   "execution_count": 35,
   "metadata": {},
   "outputs": [
    {
     "name": "stdout",
     "output_type": "stream",
     "text": [
      "['String', 25.694, ['abc', 258, 'xyz'], '!!!', 15, 'це буде вкінці'] Виводжу елемент під номером 0 який є String\n"
     ]
    }
   ],
   "source": [
    "ll = [\"String\", 15, 25.694, [\"abc\", 258, \"xyz\"], \"!!!\", 15]\n",
    "\n",
    "ll.append(\"цЕ БУДЕ ВКІНЦІ\".lower())\n",
    "ll.remove(15)\n",
    "\n",
    "ll[0]\n",
    "\n",
    "print(ll, f\"Виводжу елемент під номером {ll.index('String')} який є {ll[0]}\")\n"
   ]
  },
  {
   "cell_type": "markdown",
   "metadata": {},
   "source": [
    "### Tuple"
   ]
  },
  {
   "cell_type": "code",
   "execution_count": 45,
   "metadata": {},
   "outputs": [
    {
     "name": "stdout",
     "output_type": "stream",
     "text": [
      "Рахуємо сільки раз є число 15: 2\n",
      "('abc', 15, 'wrt', 15) Беру елемент 1\n",
      "['abc', 15, 'wrt', 15, 'В кінець'] ('abc', 15, 'wrt', 15, 'В кінець')\n"
     ]
    }
   ],
   "source": [
    "tt = (\"abc\", 15, \"wrt\", 15)\n",
    "\n",
    "print(\"Рахуємо сільки раз є число 15:\", tt.count(15))\n",
    "\n",
    "print(tt, f\"Беру елемент {tt.index(15)}\")\n",
    "\n",
    "ll_2 = list(tt)\n",
    "\n",
    "ll_2.append(\"В кінець\")\n",
    "\n",
    "tt_2 = tuple(ll_2)\n",
    "\n",
    "print(ll_2, tt_2)"
   ]
  }
 ],
 "metadata": {
  "kernelspec": {
   "display_name": "Python 3.10.6 64-bit",
   "language": "python",
   "name": "python3"
  },
  "language_info": {
   "codemirror_mode": {
    "name": "ipython",
    "version": 3
   },
   "file_extension": ".py",
   "mimetype": "text/x-python",
   "name": "python",
   "nbconvert_exporter": "python",
   "pygments_lexer": "ipython3",
   "version": "3.10.6"
  },
  "orig_nbformat": 4,
  "vscode": {
   "interpreter": {
    "hash": "a42ccb73e7d9bfdf27e036f1d2b8b681e55fc0743cc5586bc2474d4a60f4b886"
   }
  }
 },
 "nbformat": 4,
 "nbformat_minor": 2
}

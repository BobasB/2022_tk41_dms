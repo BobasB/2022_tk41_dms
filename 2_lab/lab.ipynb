{
 "cells": [
  {
   "cell_type": "markdown",
   "metadata": {},
   "source": [
    "## Базовими типами даних\n",
    "- цілі числа, числа з плаваючию комою\n",
    "- стрічки"
   ]
  },
  {
   "cell_type": "code",
   "execution_count": 12,
   "metadata": {},
   "outputs": [
    {
     "name": "stdout",
     "output_type": "stream",
     "text": [
      "Це є стрічка, Це також стрічка\n",
      "<class 'str'> 12\n"
     ]
    },
    {
     "data": {
      "text/plain": [
       "False"
      ]
     },
     "execution_count": 12,
     "metadata": {},
     "output_type": "execute_result"
    }
   ],
   "source": [
    "var_str = \"Це є стрічка\" \n",
    "var_str_1 = 'Це також стрічка'\n",
    "vv = var_str + \", \" + var_str_1\n",
    "print(vv)\n",
    "\n",
    "var_int = int(\"12\")\n",
    "var_float = 2.5\n",
    "\n",
    "print(type(var_str), var_int)\n",
    "var_str.isdigit()\n"
   ]
  },
  {
   "cell_type": "markdown",
   "metadata": {},
   "source": [
    "## Способи виведення даних"
   ]
  },
  {
   "cell_type": "code",
   "execution_count": 27,
   "metadata": {},
   "outputs": [
    {
     "name": "stdout",
     "output_type": "stream",
     "text": [
      "Метод 1: Це є стрічка <class 'str'> А також числа: 2.5 <class 'float'>\n",
      "Метод 2: Це є стрічка <class 'str'> А також числа: 2.5 <class 'float'>\n",
      "Метод 3: Це є стрічка <class 'str'> А також числа: 2.5 <class 'float'>\n",
      "Метод 4: Це є стрічка <class 'str'> А також числа: 2.5 <class 'float'>\n",
      "Ми поєднали форматування: Це ми будем Форматувати Це також стрічка\n"
     ]
    }
   ],
   "source": [
    "print(\"Метод 1:\", var_str, type(var_str), \"А також числа:\", var_float, type(var_float))\n",
    "\n",
    "print(\"Метод 2: \" + var_str + \" \" +  str(type(var_str)) + \" А також числа: \" + str(var_float) + \" \" + str(type(var_float)))\n",
    "\n",
    "print(\"Метод 3: {0} {1} А також числа: {2} {3}\".format(var_str, type(var_str), var_float, type(var_float)))\n",
    "\n",
    "print(f\"Метод 4: {var_str} {type(var_str)} А також числа: {var_float} {type(var_float)}\")\n",
    "\n",
    "a = \"Це ми будем {}\".format(\"Форматувати\") # так не робити, це приклад\n",
    "print(f\"Ми поєднали форматування: {a}\", var_str_1)"
   ]
  },
  {
   "cell_type": "markdown",
   "metadata": {},
   "source": [
    "## Сладні типи даних\n",
    "- list, tupl\n",
    "- set, dict\n",
    "\n",
    "### List"
   ]
  },
  {
   "cell_type": "code",
   "execution_count": 35,
   "metadata": {},
   "outputs": [
    {
     "name": "stdout",
     "output_type": "stream",
     "text": [
      "['String', 25.694, ['abc', 258, 'xyz'], '!!!', 15, 'це буде вкінці'] Виводжу елемент під номером 0 який є String\n"
     ]
    }
   ],
   "source": [
    "ll = [\"String\", 15, 25.694, [\"abc\", 258, \"xyz\"], \"!!!\", 15]\n",
    "\n",
    "ll.append(\"цЕ БУДЕ ВКІНЦІ\".lower())\n",
    "ll.remove(15)\n",
    "\n",
    "ll[0]\n",
    "\n",
    "print(ll, f\"Виводжу елемент під номером {ll.index('String')} який є {ll[0]}\")\n"
   ]
  },
  {
   "cell_type": "markdown",
   "metadata": {},
   "source": [
    "### Tuple"
   ]
  },
  {
   "cell_type": "code",
   "execution_count": 45,
   "metadata": {},
   "outputs": [
    {
     "name": "stdout",
     "output_type": "stream",
     "text": [
      "Рахуємо сільки раз є число 15: 2\n",
      "('abc', 15, 'wrt', 15) Беру елемент 1\n",
      "['abc', 15, 'wrt', 15, 'В кінець'] ('abc', 15, 'wrt', 15, 'В кінець')\n"
     ]
    }
   ],
   "source": [
    "tt = (\"abc\", 15, \"wrt\", 15)\n",
    "\n",
    "print(\"Рахуємо сільки раз є число 15:\", tt.count(15))\n",
    "\n",
    "print(tt, f\"Беру елемент {tt.index(15)}\")\n",
    "\n",
    "ll_2 = list(tt)\n",
    "\n",
    "ll_2.append(\"В кінець\")\n",
    "\n",
    "tt_2 = tuple(ll_2)\n",
    "\n",
    "print(ll_2, tt_2)"
   ]
  },
  {
   "cell_type": "markdown",
   "metadata": {},
   "source": [
    "### Set"
   ]
  },
  {
   "cell_type": "code",
   "execution_count": 7,
   "metadata": {},
   "outputs": [
    {
     "name": "stdout",
     "output_type": "stream",
     "text": [
      "Всі елементи: {1, 'abc', 'String', 'string', 15}\n",
      "Елементи після видалення: {'abc', 'string', 15}\n"
     ]
    }
   ],
   "source": [
    "ss = {1, 1.0, \"string\", \"String\", \"abc\", 15, \"abc\"}\n",
    "print(f\"Всі елементи: {ss}\")\n",
    "ss.pop()\n",
    "ss.remove(\"String\")\n",
    "ss.add(15)\n",
    "print(f\"Елементи після видалення: {ss}\")"
   ]
  },
  {
   "cell_type": "markdown",
   "metadata": {},
   "source": [
    "### Dict"
   ]
  },
  {
   "cell_type": "code",
   "execution_count": 12,
   "metadata": {},
   "outputs": [
    {
     "name": "stdout",
     "output_type": "stream",
     "text": [
      "{'Це є ключ': 'Це є значення', 'name': 'Bohdan_2'}\n",
      "Виводимо всі ключі dict_keys(['Це є ключ', 'name']) та всі значення dict_values(['Це є значення', 'Bohdan_2'])\n",
      "{'Це є ключ': 'Це є значення', 'name': 'Bohdan_2', 'Новий ключ': 2587}\n"
     ]
    }
   ],
   "source": [
    "name = \"name\"\n",
    "dd = {\"Це є ключ\": \"Це є значення\", \"name\": \"Bohdan\", name: \"Bohdan_2\"}\n",
    "print(dd)\n",
    "\n",
    "print(f\"Виводимо всі ключі {dd.keys()} та всі значення {dd.values()}\")\n",
    "dd[\"Новий ключ\"] = 2587\n",
    "print(dd)"
   ]
  },
  {
   "cell_type": "markdown",
   "metadata": {},
   "source": [
    "### Константи та вбудовані функції"
   ]
  },
  {
   "cell_type": "code",
   "execution_count": 26,
   "metadata": {},
   "outputs": [
    {
     "name": "stdout",
     "output_type": "stream",
     "text": [
      "[True, 'True']\n",
      "Звісно ж вони не рівні\n",
      "Вони є рівними є рівним\n",
      "[(1, 5), (2, 8), ('abc', 88)] Маємо елемент (1, 5) який має тип <class 'tuple'>\n"
     ]
    }
   ],
   "source": [
    "TrueS = [True, \"True\"]\n",
    "print(TrueS)\n",
    "if True == \"True\":\n",
    "    print(\"Так вони рівні\")\n",
    "else:\n",
    "    print(\"Звісно ж вони не рівні\")\n",
    "\n",
    "\n",
    "print(\"Вони є рівними є рівним\" if abs(-12.5) == abs(12.5) else \"Ні вони не рівні\")\n",
    "l1 = [1, 2, \"abc\"]\n",
    "t2 = (5, 8, 88)\n",
    "zz = list(zip(l1, t2))\n",
    "print(zz, f\"Маємо елемент {zz[0]} який має тип {type(zz[0])}\")"
   ]
  },
  {
   "cell_type": "markdown",
   "metadata": {},
   "source": [
    "### Працюємо з циклами\n",
    "- while, for"
   ]
  },
  {
   "cell_type": "code",
   "execution_count": 19,
   "metadata": {},
   "outputs": [
    {
     "name": "stdout",
     "output_type": "stream",
     "text": [
      "О ні!!!\n",
      "О ні!!!\n",
      "О ні!!!\n",
      "О ні!!!\n",
      "Виходимо з циклу\n"
     ]
    }
   ],
   "source": [
    "it = [5, 8, \"abc\", \"Кінець\"]\n",
    "i = 0\n",
    "while True:\n",
    "    print(\"О ні!!!\")\n",
    "    if it[i] == \"Кінець\":\n",
    "        print(\"Виходимо з циклу\")\n",
    "        break\n",
    "    i += 1"
   ]
  },
  {
   "cell_type": "code",
   "execution_count": 18,
   "metadata": {},
   "outputs": [
    {
     "name": "stdout",
     "output_type": "stream",
     "text": [
      "False\n",
      "0 О ні!!!\n",
      "1 Це має вивестись в кінці\n",
      "1 О ні!!!\n",
      "Все що після цієї команди не буде виводитись\n",
      "2 О ні!!!\n",
      "3 Це має вивестись в кінці\n",
      "\n",
      "*~*\n",
      "*~**~*\n",
      "*~**~**~*\n",
      "*~**~**~**~*\n",
      "*~**~**~**~**~*\n",
      "*~**~**~**~**~**~*\n",
      "*~**~**~**~**~**~**~*\n",
      "*~**~**~**~**~**~**~**~*\n",
      "*~**~**~**~**~**~**~**~**~*\n"
     ]
    }
   ],
   "source": [
    "i = 0\n",
    "\n",
    "print(it[i] == \"Кінець\")\n",
    "\n",
    "while it[i] != \"Кінець\":\n",
    "    print(f\"{i} О ні!!!\")\n",
    "    i += 1\n",
    "    if it[i] == \"abc\":\n",
    "        print(\"Все що після цієї команди не буде виводитись\")\n",
    "        continue\n",
    "    print(f\"{i} Це має вивестись в кінці\")\n",
    "\n",
    "i = 0\n",
    "while i < 10:\n",
    "    print(i*\"*~*\")\n",
    "    i+=1\n"
   ]
  },
  {
   "cell_type": "code",
   "execution_count": 31,
   "metadata": {},
   "outputs": [
    {
     "name": "stdout",
     "output_type": "stream",
     "text": [
      "Значення i 5\n",
      "Елемент 5 знаходиться під індесом 0\n",
      "Значення i 8\n",
      "Елемент 8 знаходиться під індесом 1\n",
      "Значення i abc\n",
      "Елемент abc знаходиться під індесом 2\n",
      "Значення i Кінець\n",
      "Елемент Кінець знаходиться під індесом 3\n",
      "range(0, 4) [0, 1, 2, 3]\n",
      "5\n",
      "8\n",
      "abc\n",
      "Кінець\n"
     ]
    }
   ],
   "source": [
    "for i in it:\n",
    "    print(f\"Значення i {i}\")\n",
    "    print(f\"Елемент {i} знаходиться під індесом {it.index(i)}\")\n",
    "\n",
    "\n",
    "rr = range(4)\n",
    "print(rr, list(rr))\n",
    "for r in rr:\n",
    "    print(it[r])\n"
   ]
  }
 ],
 "metadata": {
  "kernelspec": {
   "display_name": "Python 3.10.6 64-bit",
   "language": "python",
   "name": "python3"
  },
  "language_info": {
   "codemirror_mode": {
    "name": "ipython",
    "version": 3
   },
   "file_extension": ".py",
   "mimetype": "text/x-python",
   "name": "python",
   "nbconvert_exporter": "python",
   "pygments_lexer": "ipython3",
   "version": "3.10.6"
  },
  "orig_nbformat": 4,
  "vscode": {
   "interpreter": {
    "hash": "a42ccb73e7d9bfdf27e036f1d2b8b681e55fc0743cc5586bc2474d4a60f4b886"
   }
  }
 },
 "nbformat": 4,
 "nbformat_minor": 2
}

{
 "cells": [
  {
   "cell_type": "markdown",
   "metadata": {},
   "source": [
    "### Поняття класу та обєкту"
   ]
  },
  {
   "cell_type": "code",
   "execution_count": 4,
   "metadata": {},
   "outputs": [
    {
     "name": "stdout",
     "output_type": "stream",
     "text": [
      "Це є обєкт <__main__.MyAnimals object at 0x0000015AA3E83B20> мого класу <class '__main__.MyAnimals'>\n",
      "Динамічно додав імя до обєкту Шарік\n",
      "Стрічка\n"
     ]
    }
   ],
   "source": [
    "class MyAnimals:\n",
    "    pass\n",
    "\n",
    "a = MyAnimals()\n",
    "print(f\"Це є обєкт {a} мого класу {MyAnimals}\")\n",
    "a.name = \"Шарік\"\n",
    "b = MyAnimals()\n",
    "print(f\"Динамічно додав імя до обєкту {a.name}\")\n",
    "#print(f\"Але в класі його немає тому {d.name}\")\n",
    "\n",
    "ss = \"Стрічка\"\n",
    "print(ss.title())"
   ]
  },
  {
   "cell_type": "markdown",
   "metadata": {},
   "source": [
    "### Різниця між даними та обєктами"
   ]
  },
  {
   "cell_type": "code",
   "execution_count": 16,
   "metadata": {},
   "outputs": [
    {
     "name": "stdout",
     "output_type": "stream",
     "text": [
      "Я маю Собака яку звати Рекс яка живе зі мною 2 років, і має вагу 12 кг\n",
      "Я маю Кіт яку звати Мурзік яка живе зі мною 6 років, і має вагу 4 кг\n",
      "Я маю Рибки яку звати Неони яка живе зі мною 1 років, і має вагу 0.1 кг\n",
      "Починаємо ООП\n",
      "Я маю Собака яку звати Рекс яка живе зі мною ?? років\n",
      "Я маю Собака яку звати Рекс яка живе зі мною 2 років\n",
      "Я переназвав мого Собака тепер її звати Шарік яка живе зі мною 4 років\n",
      "Я маю Кіт яку звати Мурзік яка живе зі мною 6 років\n"
     ]
    }
   ],
   "source": [
    "animal_type = [\"Собака\", \"Кіт\", \"Рибки\"]\n",
    "animal_name = [\"Рекс\", \"Мурзік\", \"Неони\"]\n",
    "animal_age = [2, 6, 1]\n",
    "animal_weight = [12, 4, 0.1]\n",
    "\n",
    "for item in range(3):\n",
    "    print(f\"Я маю {animal_type[item]} яку звати {animal_name[item]} яка живе зі мною {animal_age[item]} років, і має вагу {animal_weight[item]} кг\")\n",
    "\n",
    "\n",
    "class MyAnimals:\n",
    "    def __init__(self, animal_type, name, age = None) -> None:\n",
    "        \"\"\"\n",
    "        animal_type: Тут треба вказати вид Тварини;\n",
    "        name: Імя моєї Тваринки;\n",
    "        \"\"\"\n",
    "        self.type = animal_type\n",
    "        self.name = name\n",
    "        self.age = \"??\" if age == None else age\n",
    "\n",
    "print(\"Починаємо ООП\")\n",
    "\n",
    "a1 = MyAnimals(\"Собака\", \"Рекс\")\n",
    "\n",
    "print(f\"Я маю {a1.type} яку звати {a1.name} яка живе зі мною {a1.age} років\")\n",
    "a1.age = 2\n",
    "print(f\"Я маю {a1.type} яку звати {a1.name} яка живе зі мною {a1.age} років\")\n",
    "a1.age = 4\n",
    "a1.name = \"Шарік\"\n",
    "print(f\"Я переназвав мого {a1.type} тепер її звати {a1.name} яка живе зі мною {a1.age} років\")\n",
    "\n",
    "a2 = MyAnimals(\"Кіт\", \"Мурзік\", 6)\n",
    "\n",
    "print(f\"Я маю {a2.type} яку звати {a2.name} яка живе зі мною {a2.age} років\")\n"
   ]
  },
  {
   "cell_type": "markdown",
   "metadata": {},
   "source": [
    "### Методи класу"
   ]
  },
  {
   "cell_type": "code",
   "execution_count": 27,
   "metadata": {},
   "outputs": [
    {
     "name": "stdout",
     "output_type": "stream",
     "text": [
      "Я даю команду Собака голос: Собака каже ГАВВ\n",
      "Я даю команду Кіт голос: Собака каже МЯУУ\n",
      "Я даю команду Рибки голос: Рибки не вміє говорити!\n",
      "Я виклакаю метод з обєкта True та викликаю з класу True\n"
     ]
    },
    {
     "ename": "TypeError",
     "evalue": "MyAnimals.has_fleas() missing 1 required positional argument: 'self'",
     "output_type": "error",
     "traceback": [
      "\u001b[1;31m---------------------------------------------------------------------------\u001b[0m",
      "\u001b[1;31mTypeError\u001b[0m                                 Traceback (most recent call last)",
      "\u001b[1;32mc:\\IT_College_Students\\2022_tk41_dms\\3_lab\\lab.ipynb Cell 6\u001b[0m in \u001b[0;36m<cell line: 38>\u001b[1;34m()\u001b[0m\n\u001b[0;32m     <a href='vscode-notebook-cell:/c%3A/IT_College_Students/2022_tk41_dms/3_lab/lab.ipynb#W5sZmlsZQ%3D%3D?line=33'>34</a>\u001b[0m \u001b[39mprint\u001b[39m(\u001b[39mf\u001b[39m\u001b[39m\"\u001b[39m\u001b[39mЯ даю команду \u001b[39m\u001b[39m{\u001b[39;00ma3\u001b[39m.\u001b[39mtype\u001b[39m}\u001b[39;00m\u001b[39m голос: \u001b[39m\u001b[39m{\u001b[39;00ma3\u001b[39m.\u001b[39mspeak()\u001b[39m}\u001b[39;00m\u001b[39m\"\u001b[39m)\n\u001b[0;32m     <a href='vscode-notebook-cell:/c%3A/IT_College_Students/2022_tk41_dms/3_lab/lab.ipynb#W5sZmlsZQ%3D%3D?line=35'>36</a>\u001b[0m \u001b[39mprint\u001b[39m(\u001b[39mF\u001b[39m\u001b[39m\"\u001b[39m\u001b[39mЯ виклакаю метод з обєкта \u001b[39m\u001b[39m{\u001b[39;00ma1\u001b[39m.\u001b[39mhas_fleas()\u001b[39m}\u001b[39;00m\u001b[39m та викликаю з класу \u001b[39m\u001b[39m{\u001b[39;00mMyAnimals\u001b[39m.\u001b[39mhas_fleas(a1)\u001b[39m}\u001b[39;00m\u001b[39m\"\u001b[39m)\n\u001b[1;32m---> <a href='vscode-notebook-cell:/c%3A/IT_College_Students/2022_tk41_dms/3_lab/lab.ipynb#W5sZmlsZQ%3D%3D?line=37'>38</a>\u001b[0m MyAnimals\u001b[39m.\u001b[39;49mhas_fleas()\n",
      "\u001b[1;31mTypeError\u001b[0m: MyAnimals.has_fleas() missing 1 required positional argument: 'self'"
     ]
    }
   ],
   "source": [
    "class MyAnimals:\n",
    "    def __init__(self, animal_type, name, age = None) -> None:\n",
    "        \"\"\"\n",
    "        animal_type: Тут треба вказати вид Тварини;\n",
    "        name: Імя моєї Тваринки;\n",
    "        \"\"\"\n",
    "        self.type = animal_type\n",
    "        self.name = name\n",
    "        self.age = \"??\" if age == None else age\n",
    "    \n",
    "    def speak(self):\n",
    "        if self.type == \"Собака\":\n",
    "            return \"Собака каже ГАВВ\"\n",
    "        elif self.type == \"Кіт\":\n",
    "            return \"Собака каже МЯУУ\"\n",
    "        else:\n",
    "            return f\"{self.type} не вміє говорити!\"\n",
    "    \n",
    "    def has_fleas(self): # чи має тваринка блохи?\n",
    "        if self.type == \"Собака\":\n",
    "            return True\n",
    "        elif self.type == \"Кіт\":\n",
    "            return True\n",
    "        else:\n",
    "            return False\n",
    "\n",
    "\n",
    "a1 = MyAnimals(\"Собака\", \"Рекс\")\n",
    "a2 = MyAnimals(\"Кіт\", \"Мурзік\", 6)\n",
    "a3 = MyAnimals(\"Рибки\", \"Неони\")\n",
    "\n",
    "print(f\"Я даю команду {a1.type} голос: {a1.speak()}\")\n",
    "print(f\"Я даю команду {a2.type} голос: {a2.speak()}\")\n",
    "print(f\"Я даю команду {a3.type} голос: {a3.speak()}\")\n",
    "\n",
    "print(F\"Я виклакаю метод з обєкта {a1.has_fleas()} та викликаю з класу {MyAnimals.has_fleas(a1)}\")\n",
    "\n",
    "\n"
   ]
  }
 ],
 "metadata": {
  "kernelspec": {
   "display_name": "Python 3.10.6 64-bit",
   "language": "python",
   "name": "python3"
  },
  "language_info": {
   "codemirror_mode": {
    "name": "ipython",
    "version": 3
   },
   "file_extension": ".py",
   "mimetype": "text/x-python",
   "name": "python",
   "nbconvert_exporter": "python",
   "pygments_lexer": "ipython3",
   "version": "3.10.6"
  },
  "orig_nbformat": 4,
  "vscode": {
   "interpreter": {
    "hash": "a42ccb73e7d9bfdf27e036f1d2b8b681e55fc0743cc5586bc2474d4a60f4b886"
   }
  }
 },
 "nbformat": 4,
 "nbformat_minor": 2
}
